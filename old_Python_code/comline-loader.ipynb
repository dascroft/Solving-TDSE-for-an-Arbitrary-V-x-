{
 "cells": [
  {
   "cell_type": "code",
   "execution_count": 1,
   "id": "e0f76191",
   "metadata": {},
   "outputs": [
    {
     "name": "stdout",
     "output_type": "stream",
     "text": [
      "Writing tdsesolver.py\n"
     ]
    }
   ],
   "source": [
    "%%writefile tdsesolver.py\n",
    "\n",
    "import numpy as np\n",
    "import matplotlib.pyplot as plt\n",
    "from findiff import FinDiff\n",
    "from scipy.sparse.linalg import inv\n",
    "from scipy.sparse import eye, diags\n",
    "import matplotlib.animation as animation\n",
    "import string\n",
    "import argparse\n",
    "from scipy import signal\n",
    "\n",
    "# Variant functions for vx\n",
    "def form1(x,k,p):\n",
    "    return k*(x**p)\n",
    "\n",
    "def form2(x,k,p):\n",
    "    return k*np.exp(p*x)\n",
    "\n",
    "def form3(x,k,p):\n",
    "    return k*np.sin(p*x)\n",
    "\n",
    "def form4(x,k,p):\n",
    "    return k*np.cos(p*x)\n",
    "\n",
    "def form5(x, k ,p):\n",
    "    return signal.square(k * np.pi/p * x)\n",
    "\n",
    "# Function selector (to be called)\n",
    "def fsel(x,k,p,n):\n",
    "    if n == 1:\n",
    "        return form1(x,k,p)\n",
    "    elif n == 2: \n",
    "        return form2(x,k,p)\n",
    "    elif n == 3:\n",
    "        return form3(x,k,p)\n",
    "    elif n == 4:\n",
    "        return form4(x,k,p)\n",
    "    elif n == 5:\n",
    "        return form5(x,k,p)\n",
    "    else:\n",
    "        raise ValueError(f\"The input {number} does not correspond to a valid function, please input an integer from 1-5.\")\n",
    "        return\n",
    "\n",
    "# Set X and T arrays\n",
    "Nx = 500\n",
    "\n",
    "Nt = 250\n",
    "tmin = 0\n",
    "tmax = 20\n",
    "\n",
    "t_array = np.linspace(tmin, tmax, Nt)\n",
    "\n",
    "def gifify(xmin,xmax,k,p,n):\n",
    "    x_array = np.linspace(xmin, xmax, Nx)\n",
    "    #Define VX and Psi\n",
    "    v_x = fsel(x_array,k,p,n)\n",
    "    psi = np.exp(-(x_array+2)**p)\n",
    "\n",
    "    # Calculate finite difference elements\n",
    "    dt = t_array[1] - t_array[0]\n",
    "    dx = x_array[1] - x_array[0]\n",
    "\n",
    "    # Convert to a diagonal matrix\n",
    "    v_x_matrix = diags(v_x)\n",
    "\n",
    "    # Calculate the Hamiltonian matrix\n",
    "    H = -0.5 * FinDiff(0, dx, 2).matrix(x_array.shape) + v_x_matrix\n",
    "\n",
    "    # Apply boundary conditions to the Hamiltonian\n",
    "    H[0, :] = H[-1, :] = 0\n",
    "    H[0, 0] = H[-1, -1] = 1\n",
    "\n",
    "    # Calculate U\n",
    "    I_plus = eye(Nx) + 1j * dt / 2. * H\n",
    "    I_minus = eye(Nx) - 1j * dt / 2. * H\n",
    "    U = inv(I_minus).dot(I_plus)\n",
    "\n",
    "    # Iterate over each time, appending each calculation of psi to a list\n",
    "    psi_list = []\n",
    "    for t in t_array:\n",
    "        psi = U.dot(psi)\n",
    "        psi[0] = psi[-1] = 0\n",
    "        psi_list.append(np.abs(psi))\n",
    "\n",
    "    fig, ax = plt.subplots()\n",
    "\n",
    "    ax.set_xlabel(\"x [arb units]\")\n",
    "    ax.set_ylabel(\"$|\\Psi(x, t)|$\", color=\"C0\")\n",
    "\n",
    "    ax_twin = ax.twinx()\n",
    "    ax_twin.plot(x_array, v_x, color=\"C1\")\n",
    "    ax_twin.set_ylabel(\"V(x) [arb units]\", color=\"C1\")\n",
    "\n",
    "    line, = ax.plot([], [], color=\"C0\", lw=2)\n",
    "    ax.grid()\n",
    "    xdata, ydata = [], []\n",
    "    \n",
    "    def run(psi):\n",
    "        line.set_data(x_array, np.abs(psi)**2)\n",
    "        return line\n",
    "    \n",
    "    ax.set_xlim(x_array[0], x_array[-1])\n",
    "    ax.set_ylim(0, 1)\n",
    "\n",
    "    ani = animation.FuncAnimation(fig, run, psi_list, interval=10)\n",
    "    ani.save(\"particle_in_a_well.gif\", fps=120, dpi=300)\n",
    "\n",
    "def argue():\n",
    "    parser = argparse.ArgumentParser()\n",
    "    parser.add_argument(\"--form\", type=int, help=\"The form of the equation. Takes value 1-5.\", required=True)\n",
    "    parser.add_argument(\"--xmin\", type=int, help=\"The lower bound of the potential. Takes integer.\", required=True)\n",
    "    parser.add_argument(\"--xmax\", type=int, help=\"The upper bound of the potential. Takes integer greater than xmin.\", required=True)\n",
    "    parser.add_argument(\"--k\", type=int, help=\"Coefficient #1.\", required=True)\n",
    "    parser.add_argument(\"--p\", type=int, help=\"Coefficient #2.\", required=True)\n",
    "    args = parser.parse_args()\n",
    "    return args\n",
    "\n",
    "if __name__ == \"__main__\":\n",
    "    args = argue()\n",
    "    gifify(xmin = args.xmin,xmax = args.xmax,k = args.k, p = args.p, n = args.form)"
   ]
  },
  {
   "cell_type": "code",
   "execution_count": 33,
   "id": "67290d7a",
   "metadata": {},
   "outputs": [
    {
     "name": "stderr",
     "output_type": "stream",
     "text": [
      "C:\\Users\\alexv\\anaconda3\\lib\\site-packages\\scipy\\sparse\\_index.py:125: SparseEfficiencyWarning: Changing the sparsity structure of a csr_matrix is expensive. lil_matrix is more efficient.\n",
      "  self._set_arrayXarray(i, j, x)\n",
      "C:\\Users\\alexv\\anaconda3\\lib\\site-packages\\scipy\\sparse\\linalg\\dsolve\\linsolve.py:318: SparseEfficiencyWarning: splu requires CSC matrix format\n",
      "  warn('splu requires CSC matrix format', SparseEfficiencyWarning)\n",
      "C:\\Users\\alexv\\anaconda3\\lib\\site-packages\\scipy\\sparse\\linalg\\dsolve\\linsolve.py:215: SparseEfficiencyWarning: spsolve is more efficient when sparse b is in the CSC matrix format\n",
      "  warn('spsolve is more efficient when sparse b '\n",
      "MovieWriter ffmpeg unavailable; using Pillow instead.\n"
     ]
    }
   ],
   "source": [
    "! python tdsesolver.py --form 1 --xmin -5 --xmax 5 --k 1 --p 2"
   ]
  },
  {
   "cell_type": "code",
   "execution_count": 36,
   "id": "0be970cc",
   "metadata": {},
   "outputs": [
    {
     "name": "stdout",
     "output_type": "stream",
     "text": [
      "On branch 7-create-user-input-environment-via-command-line-interface\n",
      "Your branch is up to date with 'origin/7-create-user-input-environment-via-command-line-interface'.\n",
      "\n",
      "Changes to be committed:\n",
      "  (use \"git restore --staged <file>...\" to unstage)\n",
      "\tnew file:   comline-loader.ipynb\n",
      "\n",
      "Changes not staged for commit:\n",
      "  (use \"git add <file>...\" to update what will be committed)\n",
      "  (use \"git restore <file>...\" to discard changes in working directory)\n",
      "\tmodified:   comline-loader.ipynb\n",
      "\tmodified:   src/example_package/solving_tdse.py\n",
      "\n",
      "Untracked files:\n",
      "  (use \"git add <file>...\" to include in what will be committed)\n",
      "\tcomline-loader-Copy1.ipynb\n",
      "\tparticle_in_a_well.gif\n",
      "\ttdsesolver.py\n",
      "\n"
     ]
    }
   ],
   "source": [
    "! git status"
   ]
  },
  {
   "cell_type": "markdown",
   "id": "fa21cf40",
   "metadata": {},
   "source": [
    "## "
   ]
  }
 ],
 "metadata": {
  "kernelspec": {
   "display_name": "Python 3 (ipykernel)",
   "language": "python",
   "name": "python3"
  },
  "language_info": {
   "codemirror_mode": {
    "name": "ipython",
    "version": 3
   },
   "file_extension": ".py",
   "mimetype": "text/x-python",
   "name": "python",
   "nbconvert_exporter": "python",
   "pygments_lexer": "ipython3",
   "version": "3.9.12"
  }
 },
 "nbformat": 4,
 "nbformat_minor": 5
}
